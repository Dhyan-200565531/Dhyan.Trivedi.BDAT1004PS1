{
 "cells": [
  {
   "cell_type": "markdown",
   "id": "804b4fae",
   "metadata": {},
   "source": [
    "Question 1.\n",
    "\n",
    "What data type is each of the following (evaluate where necessary)?\n",
    "\n",
    "5\n",
    "\n",
    "5.0\n",
    "\n",
    "5 > 1\n",
    "\n",
    "'5'\n",
    "\n",
    "5 * 2\n",
    "\n",
    "'5' * 2\n",
    "\n",
    "'5' + '2'\n",
    "\n",
    "5 / 2\n",
    "\n",
    "5 % 2\n",
    "\n",
    "{5, 2, 1}\n",
    "\n",
    "5 == 3\n",
    "\n",
    "Pi (the number)"
   ]
  },
  {
   "cell_type": "code",
   "execution_count": 40,
   "id": "bbf8c05f",
   "metadata": {},
   "outputs": [
    {
     "name": "stdout",
     "output_type": "stream",
     "text": [
      "<class 'int'>\n",
      "<class 'float'>\n",
      "<class 'bool'>\n",
      "<class 'str'>\n",
      "<class 'str'>\n",
      "<class 'str'>\n",
      "<class 'float'>\n",
      "<class 'int'>\n",
      "<class 'set'>\n",
      "<class 'bool'>\n",
      "<class 'float'>\n"
     ]
    }
   ],
   "source": [
    "#Solution 1\n",
    "lst1 = [5, 5.0, 5 > 1, '5', '5' * 2, '5' + '2', 5 / 2, 5 % 2, {5, 2, 1}, 5 == 3, 3.14]\n",
    "for x in range(len(lst1)):\n",
    "    print(type(lst1[x]))"
   ]
  },
  {
   "cell_type": "markdown",
   "id": "cf5dc9e7",
   "metadata": {},
   "source": [
    "Question 2\n",
    "\n",
    "Write (and evaluate) python expressions that answer these questions:\n",
    "    \n",
    "A. How many letters are there in 'Supercalifragilisticexpialidocious'?\n",
    "\n",
    "B. Does 'Supercalifragilisticexpialidocious' contain 'ice' as a substring?\n",
    "\n",
    "C. Which of the following words is the longest:\n",
    "\n",
    "Supercalifragilisticexpialidocious, Honorificabilitudinitatibus, or\n",
    "Bababadalgharaghtakamminarronnkonn?\n",
    "\n",
    "D. Which composer comes first in the dictionary: 'Berlioz', 'Borodin', 'Brian',\n",
    "'Bartok', 'Bellini', 'Buxtehude', 'Bernstein'. Which one comes last?"
   ]
  },
  {
   "cell_type": "code",
   "execution_count": 29,
   "id": "14f3820c",
   "metadata": {},
   "outputs": [
    {
     "name": "stdout",
     "output_type": "stream",
     "text": [
      "there are 34 characters in the given word\n",
      "The string contains 'ice'\n",
      "First and third words are the lonest with word length of 34\n",
      "Bartok is the first composer in the dictionary\n"
     ]
    }
   ],
   "source": [
    "#Solution 2-A\n",
    "a = 'Supercalifragilisticexpialidocious'\n",
    "length = len(a)\n",
    "print(\"there are \"+ str(length)+ \" characters in the given word\")\n",
    "\n",
    "#Solution 2-B\n",
    "if a.find('ice'):\n",
    "    print(\"The string contains 'ice'\")\n",
    "\n",
    "#Solution 2-C\n",
    "lst2=['Supercalifragilisticexpialidocious','Honorificabilitudinitatibus','Bababadalgharaghtakamminarronnkonn']\n",
    "len(lst2[0])   \n",
    "len(lst2[1])   \n",
    "len(lst2[2])\n",
    "print(\"First and third words are the longest with word length of 34\")\n",
    "\n",
    "#Solution 2-D\n",
    "lst3 = ['Berlioz','Borodin','Brian','Bartok','Bellini','Buxtehude','Bernstein']\n",
    "lst3.sort()\n",
    "print(lst3[0] +' is the first composer in the dictionary')"
   ]
  },
  {
   "cell_type": "markdown",
   "id": "5b835a86",
   "metadata": {},
   "source": [
    "Question 3\n",
    "\n",
    "Implement function triangleArea(a,b,c) that takes as input the lengths of the 3\n",
    "sides of a triangle and returns the area of the triangle. By Heron's formula, the area\n",
    "of a triangle with side lengths a, b, and c is\n",
    "s(s - a)(s -b)(s -c), where\n",
    "s = (a +b + c) /2.\n",
    "\n",
    "triangleArea(2,2,2)\n",
    "1.7320508075688772"
   ]
  },
  {
   "cell_type": "code",
   "execution_count": 1,
   "id": "6fe8e033",
   "metadata": {},
   "outputs": [
    {
     "name": "stdout",
     "output_type": "stream",
     "text": [
      "1.7320508075688772\n"
     ]
    }
   ],
   "source": [
    "#Solution 3\n",
    "def trianglearea(a,b,c):\n",
    "    import math\n",
    "    s = (a+b+c)/2\n",
    "    x = s-a\n",
    "    y = s-b\n",
    "    z = s-c\n",
    "    p = math.sqrt(s*(s-a)*(s-b)*(s-c))\n",
    "    print(p)\n",
    "    \n",
    "trianglearea(2,2,2)"
   ]
  },
  {
   "cell_type": "markdown",
   "id": "16453536",
   "metadata": {},
   "source": [
    "Question 4\n",
    "\n",
    "Write a program in python to separate odd and even integers in separate arrays. Go\n",
    "to the editor\n",
    "\n",
    "Test Data :\n",
    "\n",
    "Input the number of elements to be stored in the array :5\n",
    "\n",
    "Input 5 elements in the array :\n",
    "\n",
    "element - 0 : 25\n",
    "\n",
    "element - 1 : 47\n",
    "\n",
    "element - 2 : 42\n",
    "\n",
    "element - 3 : 56\n",
    "\n",
    "element - 4 : 32\n",
    "\n",
    "Expected Output:\n",
    "\n",
    "The Even elements are:\n",
    "42 56 32\n",
    "\n",
    "The Odd elements are :\n",
    "25 47"
   ]
  },
  {
   "cell_type": "code",
   "execution_count": 11,
   "id": "74b70ec9",
   "metadata": {},
   "outputs": [
    {
     "name": "stdout",
     "output_type": "stream",
     "text": [
      "enter list length: 5\n",
      "element= 0: 1\n",
      "element= 1: 2\n",
      "element= 2: 3\n",
      "element= 3: 4\n",
      "element= 4: 5\n",
      "even elements are: \n",
      "2 4 \n",
      "odd elements are: \n",
      "1 3 5 "
     ]
    }
   ],
   "source": [
    "#Solution 4\n",
    "main_array = []\n",
    "length = int(input(\"enter list length: \"))\n",
    "for n in range(0,length):\n",
    "    ele = int(input(\"element= \"+ str(n) +\": \"))\n",
    "    main_array.append(ele)\n",
    "\n",
    "print(\"even elements are: \")\n",
    "for x in main_array:\n",
    "    if x%2==0:\n",
    "\n",
    "        print(str(x), end= \" \")\n",
    "print(\"\\nodd elements are: \")\n",
    "for x in main_array:\n",
    "    if x%2 !=0:\n",
    "        print(str(x), end= \" \")"
   ]
  },
  {
   "cell_type": "markdown",
   "id": "a365312f",
   "metadata": {},
   "source": [
    "Question 5\n",
    "\n",
    "A. Write a function inside(x,y,x1,y1,x2,y2) that returns True or False depending on whether the point (x,y) lies in the rectangle with lower left corner (x1,y1) and upper right corner (x2,y2).\n",
    "\n",
    "inside(1,1,0,0,2,3)\n",
    "True\n",
    "\n",
    "inside(-1,-1,0,0,2,3)\n",
    "False"
   ]
  },
  {
   "cell_type": "code",
   "execution_count": 12,
   "id": "70390656",
   "metadata": {},
   "outputs": [
    {
     "data": {
      "text/plain": [
       "False"
      ]
     },
     "execution_count": 12,
     "metadata": {},
     "output_type": "execute_result"
    }
   ],
   "source": [
    "#Solution 5 A\n",
    "\n",
    "def inside(x,y,x1,y1,x2,y2):\n",
    "    return x1 <= x <= x2 and y1 <= y <= y2\n",
    "    if inside(x, y, x1, y1, x2, y2):\n",
    "        print(f\"The 3point ({x}, {y}) is inside the rectangle.\")\n",
    "    else:\n",
    "        print(f\"The point ({x}, {y}) is outside the rectangle.\")\n",
    "        \n",
    "inside(1,1,0,0,2,3)\n",
    "inside(-1,-1,0,0,2,3)"
   ]
  },
  {
   "cell_type": "markdown",
   "id": "897fb6da",
   "metadata": {},
   "source": [
    "B. Use function inside() from part a. to write an expression that tests whether the point (1,1) lies in both of the following rectangles: one with lower left corner (0.3, 0.5) and upper right corner (1.1, 0.7) and the other with lower left corner (0.5, 0.2) and upper right corner (1.1, 2)."
   ]
  },
  {
   "cell_type": "code",
   "execution_count": 2,
   "id": "fc6d0dc0",
   "metadata": {},
   "outputs": [
    {
     "name": "stdout",
     "output_type": "stream",
     "text": [
      "False\n",
      "True\n"
     ]
    }
   ],
   "source": [
    "#Solution 5 B\n",
    "\n",
    "print(inside(1,2,0.3,0.5,1.1,0.7))\n",
    "print(inside(1,0.3,0.5,0.2,1.1,2))"
   ]
  },
  {
   "cell_type": "markdown",
   "id": "69def21e",
   "metadata": {},
   "source": [
    "Question 6\n",
    "\n",
    "You can turn a word into pig-Latin using the following two rules (simplified):\n",
    "    \n",
    "• If the word starts with a consonant, move that letter to the end and append 'ay'. For example, 'happy' becomes 'appyhay' and 'pencil' becomes 'encilpay'.\n",
    "• If the word starts with a vowel, simply append 'way' to the end of the word. For example, 'enter' becomes 'enterway' and 'other' becomes 'otherway' . For our purposes, there are 5 vowels: a, e, i, o, u (so we count y as a consonant).\n",
    "\n",
    "Write a function pig() that takes a word (i.e., a string) as input and returns its pig-Latin form. Your function should still work if the input word contains upper case characters. Your output should always be lower case however.\n",
    "\n",
    "pig('happy')\n",
    "'appyhay'\n",
    "\n",
    "pig('Enter')\n",
    "'enterway'"
   ]
  },
  {
   "cell_type": "code",
   "execution_count": 14,
   "id": "0e2087e5",
   "metadata": {},
   "outputs": [
    {
     "data": {
      "text/plain": [
       "'appyhay'"
      ]
     },
     "execution_count": 14,
     "metadata": {},
     "output_type": "execute_result"
    }
   ],
   "source": [
    "#Solution 6\n",
    "\n",
    "def pig(word):\n",
    "    word = word.lower()\n",
    "    vowels = ['a','e','i','o','u']\n",
    "    if word[0] in vowels:\n",
    "        pig_latin_form = word + 'way'\n",
    "        return pig_latin_form\n",
    "    else:\n",
    "        pig_latin_form = word[1:] + word[0] + \"ay\"\n",
    "        return pig_latin_form\n",
    "    \n",
    "pig(\"enter\")\n",
    "pig(\"happy\")"
   ]
  },
  {
   "cell_type": "markdown",
   "id": "2514d89f",
   "metadata": {},
   "source": [
    "Question 7\n",
    "\n",
    "File bloodtype1.txt records blood-types of patients (A, B, AB, O or OO) at a clinic. Write a function bldcount() that reads the file with name name and reports (i.e., prints) how many patients there are in each bloodtype.\n",
    " bldcount('bloodtype.txt')\n",
    "\n",
    "There are 10 patients of blood type A.\n",
    "\n",
    "There is one patient of blood type B.\n",
    "\n",
    "There are 10 patients of blood type AB.\n",
    "\n",
    "There are 12 patients of blood type O.\n",
    "\n",
    "There are no patients of blood type OO."
   ]
  },
  {
   "cell_type": "code",
   "execution_count": 24,
   "id": "d5af1345",
   "metadata": {},
   "outputs": [
    {
     "name": "stdout",
     "output_type": "stream",
     "text": [
      "There are 15 patients of blood type A\n",
      "There is one patient of blood type B\n",
      "There are 13 patients of blood type AB\n",
      "There are 15 patients of blood type O\n",
      "There are no patients of blood type OO\n"
     ]
    }
   ],
   "source": [
    "#Solution 7\n",
    "\n",
    "def bldcount(name):\n",
    "    f = open(name,'r')\n",
    "    line = f.readline()\n",
    "    bld_type = ['A', 'B', 'AB','O','OO']\n",
    "    bld = line.split(\" \")\n",
    "    count = [bld.count(i) for i in bld_type]              \n",
    "    for i in range(0,len(bld_type)):\n",
    "        if(count[i] == 1):\n",
    "            print(\"There is one\"  + \" patient of blood type \" + bld_type[i])\n",
    "        elif(count[i] == 0):\n",
    "            print(\"There are no\"  + \" patients of blood type \" + bld_type[i])\n",
    "        else:\n",
    "            print(\"There are \" + str(count[i]) + \" patients of blood type \" + bld_type[i])\n",
    "\n",
    "local_file_path = r'C:\\Users\\DHYAN TRIVEDI\\OneDrive\\Desktop\\Georgian\\DP-1004\\Assignment-1\\bloodtype1.txt'\n",
    " \n",
    "bldcount(local_file_path)"
   ]
  },
  {
   "cell_type": "markdown",
   "id": "0f6adc14",
   "metadata": {},
   "source": [
    "Question 8\n",
    "\n",
    "Write a function curconv() that takes as input:\n",
    "1. a currency represented using a string (e.g., 'JPY' for the Japanese Yen or 'EUR' for the Euro)\n",
    "2. an amount\n",
    "\n",
    "and then converts and returns the amount in US dollars.\n",
    " curconv('EUR', 100)\n",
    "122.96544\n",
    " curconv('JPY', 100)\n",
    "1.241401\n",
    "\n",
    "The currency rates you will need are stored in file currencies.txt:\n",
    "\n",
    "AUD 1.0345157 Australian Dollar \n",
    "\n",
    "CHF 1.0237414 Swiss Franc\n",
    "\n",
    "CNY 0.1550176 Chinese Yuan\n",
    "\n",
    "DKK 0.1651442 Danish Krone\n",
    "\n",
    "EUR 1.2296544 Euro\n",
    "\n",
    "GBP 1.5550989 British Pound\n",
    "\n",
    "HKD 0.1270207 Hong Kong Dollar\n",
    "\n",
    "INR 0.0177643 Indian Rupee\n",
    "\n",
    "JPY 0.01241401 Japanese Yen\n",
    "\n",
    "MXN 0.0751848 Mexican Peso\n",
    "\n",
    "MYR 0.3145411 Malaysian Ringgit\n",
    "\n",
    "NOK 0.1677063 Norwegian Krone\n",
    "\n",
    "NZD 0.8003591 New Zealand Dollar\n",
    "\n",
    "PHP 0.0233234 Philippine Peso\n",
    "\n",
    "SEK 0.148269 Swedish Krona\n",
    "\n",
    "SGD 0.788871 Singapore Dollar\n",
    "\n",
    "THB 0.0313789 Thai Baht"
   ]
  },
  {
   "cell_type": "code",
   "execution_count": 28,
   "id": "bc6179e1",
   "metadata": {},
   "outputs": [
    {
     "name": "stdout",
     "output_type": "stream",
     "text": [
      "122.96544\n",
      "1.241401\n"
     ]
    }
   ],
   "source": [
    "#Solution 8\n",
    "\n",
    "path = r'\"C:\\Users\\DHYAN TRIVEDI\\OneDrive\\Desktop\\Georgian\\DP-1004\\Assignment-1\\currencies.txt\"'\n",
    "def curconv(cur,amt):\n",
    "    f = open(\"currencies.txt\",\"r\")\n",
    "    s1 = [i.strip() for i in f]\n",
    "    for i in s1:\n",
    "        if(i.split()[0] == cur):\n",
    "            res = float(i.split()[1]) * amt\n",
    "            return res\n",
    "        \n",
    "print(curconv(\"EUR\",100))\n",
    "print(curconv('JPY', 100))"
   ]
  },
  {
   "cell_type": "markdown",
   "id": "843fb135",
   "metadata": {},
   "source": [
    "Question 9\n",
    "\n",
    "Each of the following will cause an exception (an error). Identify what type of exception each will cause.\n",
    "\n",
    "Trying to add incompatible variables, as in\n",
    "adding 6 + ‘a’\n",
    "\n",
    "Referring to the 12\n",
    "th item of a list that has only 10\n",
    "items\n",
    "\n",
    "Using a value that is out of range for a function’s\n",
    "input, such as calling math.sqrt( 1.0)\n",
    "Using an undeclared variable, such as\n",
    "p rint(x)\n",
    "when x has not been defined\n",
    "\n",
    "Trying to open a file that does not exist, such as\n",
    "mistyping the file name or looking in the wrong\n",
    "directory."
   ]
  },
  {
   "cell_type": "code",
   "execution_count": 6,
   "id": "8b660e9e",
   "metadata": {},
   "outputs": [
    {
     "ename": "TypeError",
     "evalue": "unsupported operand type(s) for +: 'int' and 'str'",
     "output_type": "error",
     "traceback": [
      "\u001b[1;31m---------------------------------------------------------------------------\u001b[0m",
      "\u001b[1;31mTypeError\u001b[0m                                 Traceback (most recent call last)",
      "Input \u001b[1;32mIn [6]\u001b[0m, in \u001b[0;36m<cell line: 4>\u001b[1;34m()\u001b[0m\n\u001b[0;32m      1\u001b[0m \u001b[38;5;66;03m#Question 9\u001b[39;00m\n\u001b[0;32m      2\u001b[0m \n\u001b[0;32m      3\u001b[0m \u001b[38;5;66;03m#1\u001b[39;00m\n\u001b[1;32m----> 4\u001b[0m \u001b[38;5;28mprint\u001b[39m(\u001b[38;5;241;43m6\u001b[39;49m\u001b[43m \u001b[49m\u001b[38;5;241;43m+\u001b[39;49m\u001b[43m \u001b[49m\u001b[38;5;124;43m'\u001b[39;49m\u001b[38;5;124;43ma\u001b[39;49m\u001b[38;5;124;43m'\u001b[39;49m)\n",
      "\u001b[1;31mTypeError\u001b[0m: unsupported operand type(s) for +: 'int' and 'str'"
     ]
    }
   ],
   "source": [
    "#Solution 9\n",
    "\n",
    "#1\n",
    "print(6 + 'a')"
   ]
  },
  {
   "cell_type": "code",
   "execution_count": 7,
   "id": "be84aede",
   "metadata": {},
   "outputs": [
    {
     "ename": "IndexError",
     "evalue": "list index out of range",
     "output_type": "error",
     "traceback": [
      "\u001b[1;31m---------------------------------------------------------------------------\u001b[0m",
      "\u001b[1;31mIndexError\u001b[0m                                Traceback (most recent call last)",
      "Input \u001b[1;32mIn [7]\u001b[0m, in \u001b[0;36m<cell line: 3>\u001b[1;34m()\u001b[0m\n\u001b[0;32m      1\u001b[0m \u001b[38;5;66;03m#2\u001b[39;00m\n\u001b[0;32m      2\u001b[0m Lst \u001b[38;5;241m=\u001b[39m [\u001b[38;5;241m1\u001b[39m,\u001b[38;5;241m2\u001b[39m,\u001b[38;5;241m3\u001b[39m,\u001b[38;5;241m4\u001b[39m,\u001b[38;5;241m5\u001b[39m,\u001b[38;5;241m6\u001b[39m,\u001b[38;5;241m7\u001b[39m,\u001b[38;5;241m8\u001b[39m,\u001b[38;5;241m9\u001b[39m,\u001b[38;5;241m10\u001b[39m]\n\u001b[1;32m----> 3\u001b[0m \u001b[38;5;28mprint\u001b[39m(\u001b[43mLst\u001b[49m\u001b[43m[\u001b[49m\u001b[38;5;241;43m11\u001b[39;49m\u001b[43m]\u001b[49m)\n",
      "\u001b[1;31mIndexError\u001b[0m: list index out of range"
     ]
    }
   ],
   "source": [
    "#Solution 9\n",
    "\n",
    "#2\n",
    "Lst = [1,2,3,4,5,6,7,8,9,10]\n",
    "print(Lst[11])"
   ]
  },
  {
   "cell_type": "code",
   "execution_count": 8,
   "id": "6abb8426",
   "metadata": {},
   "outputs": [
    {
     "ename": "ValueError",
     "evalue": "math domain error",
     "output_type": "error",
     "traceback": [
      "\u001b[1;31m---------------------------------------------------------------------------\u001b[0m",
      "\u001b[1;31mValueError\u001b[0m                                Traceback (most recent call last)",
      "Input \u001b[1;32mIn [8]\u001b[0m, in \u001b[0;36m<cell line: 3>\u001b[1;34m()\u001b[0m\n\u001b[0;32m      1\u001b[0m \u001b[38;5;66;03m#3\u001b[39;00m\n\u001b[0;32m      2\u001b[0m \u001b[38;5;28;01mimport\u001b[39;00m \u001b[38;5;21;01mmath\u001b[39;00m\n\u001b[1;32m----> 3\u001b[0m \u001b[38;5;28mprint\u001b[39m(\u001b[43mmath\u001b[49m\u001b[38;5;241;43m.\u001b[39;49m\u001b[43msqrt\u001b[49m\u001b[43m(\u001b[49m\u001b[38;5;241;43m-\u001b[39;49m\u001b[38;5;241;43m1\u001b[39;49m\u001b[43m)\u001b[49m)\n",
      "\u001b[1;31mValueError\u001b[0m: math domain error"
     ]
    }
   ],
   "source": [
    "#Solution 9\n",
    "\n",
    "#3\n",
    "import math\n",
    "print(math.sqrt(-1))"
   ]
  },
  {
   "cell_type": "code",
   "execution_count": 9,
   "id": "2e096ba4",
   "metadata": {},
   "outputs": [
    {
     "ename": "NameError",
     "evalue": "name 'x' is not defined",
     "output_type": "error",
     "traceback": [
      "\u001b[1;31m---------------------------------------------------------------------------\u001b[0m",
      "\u001b[1;31mNameError\u001b[0m                                 Traceback (most recent call last)",
      "Input \u001b[1;32mIn [9]\u001b[0m, in \u001b[0;36m<cell line: 2>\u001b[1;34m()\u001b[0m\n\u001b[0;32m      1\u001b[0m \u001b[38;5;66;03m#4\u001b[39;00m\n\u001b[1;32m----> 2\u001b[0m \u001b[38;5;28mprint\u001b[39m(\u001b[43mx\u001b[49m)\n",
      "\u001b[1;31mNameError\u001b[0m: name 'x' is not defined"
     ]
    }
   ],
   "source": [
    "#Solution 9\n",
    "\n",
    "\n",
    "#4\n",
    "print(x)"
   ]
  },
  {
   "cell_type": "code",
   "execution_count": 10,
   "id": "2afab84e",
   "metadata": {},
   "outputs": [
    {
     "ename": "FileNotFoundError",
     "evalue": "[Errno 2] No such file or directory: 'nofile.txt'",
     "output_type": "error",
     "traceback": [
      "\u001b[1;31m---------------------------------------------------------------------------\u001b[0m",
      "\u001b[1;31mFileNotFoundError\u001b[0m                         Traceback (most recent call last)",
      "Input \u001b[1;32mIn [10]\u001b[0m, in \u001b[0;36m<cell line: 2>\u001b[1;34m()\u001b[0m\n\u001b[0;32m      1\u001b[0m \u001b[38;5;66;03m#5\u001b[39;00m\n\u001b[1;32m----> 2\u001b[0m f \u001b[38;5;241m=\u001b[39m \u001b[38;5;28;43mopen\u001b[39;49m\u001b[43m(\u001b[49m\u001b[38;5;124;43m'\u001b[39;49m\u001b[38;5;124;43mnofile.txt\u001b[39;49m\u001b[38;5;124;43m'\u001b[39;49m\u001b[43m)\u001b[49m\n",
      "\u001b[1;31mFileNotFoundError\u001b[0m: [Errno 2] No such file or directory: 'nofile.txt'"
     ]
    }
   ],
   "source": [
    "#Solution 9\n",
    "\n",
    "#5\n",
    "f = open('nofile.txt')"
   ]
  },
  {
   "cell_type": "markdown",
   "id": "0fe05e39",
   "metadata": {},
   "source": [
    "Question 10\n",
    "\n",
    "Encryption is the process of hiding the meaning of a text by substituting letters in the message with other letters, according to some system. \n",
    "\n",
    "If the process is successful, no one but the intended recipient can understand the encrypted message. Cryptanalysis refers to attempts to undo the encryption, even if some details of the encryption are unknown (for example, if an encrypted message has been intercepted). \n",
    "\n",
    "The first step of cryptanalysis is often to build up a table of letter frequencies in the encrypted text. Assume that the string letters is already defined as 'abcdefghijklmnopqrstuvwxyz'. \n",
    "\n",
    "Write a function called frequencies() that takes a string as its only parameter, and returns a list of integers, showing the number of times each character appears in the text. Your function may ignore any characters that are not in letters.\n",
    "\n",
    "frequencies('The quick red fox got bored and went home.')\n",
    "\n",
    "[1, 1, 1, 3, 5, 1, 1, 2, 1, 0, 1, 0, 1, 2, 4, 0, 1, 2, 0, 2, 1, 0, 1, 1, 0, 0]\n",
    "\n",
    " frequencies('apple')"
   ]
  },
  {
   "cell_type": "code",
   "execution_count": 26,
   "id": "12a60d76",
   "metadata": {},
   "outputs": [
    {
     "name": "stdout",
     "output_type": "stream",
     "text": [
      "[1, 1, 1, 3, 5, 1, 1, 2, 1, 0, 1, 0, 1, 2, 4, 0, 1, 2, 0, 3, 1, 0, 1, 1, 0, 0]\n",
      "[2, 0, 0, 0, 0, 0, 0, 0, 0, 0, 0, 0, 0, 0, 0, 2, 0, 0, 0, 0, 0, 0, 0, 0, 0, 0]\n"
     ]
    }
   ],
   "source": [
    "#Solution 10\n",
    "\n",
    "def frequencies(string):\n",
    "    string = string.lower()                   \n",
    "    alphabets = 'abcdefghijklmnopqrstuvwxyz'\n",
    "    a = [i for i in alphabets]\n",
    "    b = [string.count(i) for i in a]\n",
    "    return b\n",
    "\n",
    "print(frequencies('The quick red fox got bored and went home'))"
   ]
  }
 ],
 "metadata": {
  "kernelspec": {
   "display_name": "Python 3 (ipykernel)",
   "language": "python",
   "name": "python3"
  },
  "language_info": {
   "codemirror_mode": {
    "name": "ipython",
    "version": 3
   },
   "file_extension": ".py",
   "mimetype": "text/x-python",
   "name": "python",
   "nbconvert_exporter": "python",
   "pygments_lexer": "ipython3",
   "version": "3.9.12"
  }
 },
 "nbformat": 4,
 "nbformat_minor": 5
}
